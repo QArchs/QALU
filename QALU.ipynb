{
 "cells": [
  {
   "cell_type": "markdown",
   "id": "c8eacf13",
   "metadata": {},
   "source": [
    "# Quantum Arithmetic Logic Units\n",
    "<i>by Ali Hakim Taşkıran<i/>"
   ]
  },
  {
   "cell_type": "markdown",
   "id": "c086d106",
   "metadata": {},
   "source": [
    "As we perform quantum operations in a quantum computer, we need to use classical logic operations. This is so challenging. Alignment of gates in the given order increases the risk of error. By the way, thanks to QALU, you will add ultra complex operators only using one function"
   ]
  },
  {
   "cell_type": "markdown",
   "id": "a87b7bd5",
   "metadata": {},
   "source": [
    "### Imports"
   ]
  },
  {
   "cell_type": "code",
   "execution_count": null,
   "id": "c46cc66e",
   "metadata": {},
   "outputs": [],
   "source": [
    "from qiskit import QuantumCircuit,execute,Aer,QuantumRegister, ClassicalRegister\n",
    "from qiskit.visualization import plot_state_qsphere,plot_bloch_multivector\n",
    "from math import log\n",
    "import numpy as np"
   ]
  },
  {
   "cell_type": "markdown",
   "id": "75cfb71f",
   "metadata": {},
   "source": [
    "## Simulation Environment"
   ]
  },
  {
   "cell_type": "code",
   "execution_count": null,
   "id": "8b337277",
   "metadata": {},
   "outputs": [],
   "source": [
    "be=Aer.get_backend(\"statevector_simulator\")"
   ]
  },
  {
   "cell_type": "markdown",
   "id": "ba256f6c",
   "metadata": {},
   "source": [
    "## AND Gate"
   ]
  },
  {
   "cell_type": "code",
   "execution_count": null,
   "id": "c0cc2cb1",
   "metadata": {},
   "outputs": [],
   "source": [
    "def and_(circ,a,b,out):\n",
    "    circ.ccx(a,b,out)"
   ]
  },
  {
   "cell_type": "markdown",
   "id": "290d1f7d",
   "metadata": {},
   "source": [
    "## OR Gate"
   ]
  },
  {
   "cell_type": "code",
   "execution_count": null,
   "id": "c66b14c6",
   "metadata": {},
   "outputs": [],
   "source": [
    "def or_(circ,a,b,out):\n",
    "    circ.cx(a,out)\n",
    "    circ.cx(b,out)\n",
    "    circ.ccx(a,b,out)"
   ]
  },
  {
   "cell_type": "markdown",
   "id": "3cda7699",
   "metadata": {},
   "source": [
    "## XOR Gate"
   ]
  },
  {
   "cell_type": "code",
   "execution_count": null,
   "id": "accf70b5",
   "metadata": {},
   "outputs": [],
   "source": [
    "def xor_(circ,a,b,out):\n",
    "    circ.cx(a,out)\n",
    "    circ.cx(b,out)"
   ]
  },
  {
   "cell_type": "markdown",
   "id": "fc990feb",
   "metadata": {},
   "source": [
    "## NAND Gate"
   ]
  },
  {
   "cell_type": "code",
   "execution_count": null,
   "id": "02d96019",
   "metadata": {},
   "outputs": [],
   "source": [
    "def nand_(circ,a,b,out):\n",
    "    circ.ccx(a,b,out)\n",
    "    circ.x(out)"
   ]
  },
  {
   "cell_type": "markdown",
   "id": "440c08af",
   "metadata": {},
   "source": [
    "## NOR Gate"
   ]
  },
  {
   "cell_type": "code",
   "execution_count": null,
   "id": "55922057",
   "metadata": {},
   "outputs": [],
   "source": [
    "def nor_(circ,a,b,out):\n",
    "    circ.cx(a,out)\n",
    "    circ.cx(b,out)\n",
    "    circ.ccx(a,b,out)\n",
    "    circ.x(out)"
   ]
  },
  {
   "cell_type": "markdown",
   "id": "a6c103fb",
   "metadata": {},
   "source": [
    "## XNOR Gate"
   ]
  },
  {
   "cell_type": "code",
   "execution_count": null,
   "id": "92b054e4",
   "metadata": {},
   "outputs": [],
   "source": [
    "def xnor_(circ,a,b,out):\n",
    "    circ.cx(a,out)\n",
    "    circ.cx(b,out)\n",
    "    circ.x(out)"
   ]
  },
  {
   "cell_type": "markdown",
   "id": "c36eeb51",
   "metadata": {},
   "source": [
    "## Visualize the gates"
   ]
  },
  {
   "cell_type": "code",
   "execution_count": null,
   "id": "74588bf8",
   "metadata": {
    "scrolled": false
   },
   "outputs": [],
   "source": [
    "a=QuantumRegister(1,\"a\")\n",
    "b=QuantumRegister(1,\"b\")\n",
    "c=QuantumRegister(1,\"out\")\n",
    "\n",
    "qc=QuantumCircuit(a,b,c)\n",
    "qc.h(0)\n",
    "qc.h(1)\n",
    "and_(qc,0,1,2)\n",
    "display(\"AND\",qc.draw(\"mpl\"))\n",
    "display(plot_state_qsphere(execute(qc,be).result().get_statevector()))\n",
    "\n",
    "a=QuantumRegister(1,\"a\")\n",
    "b=QuantumRegister(1,\"b\")\n",
    "c=QuantumRegister(1,\"out\")\n",
    "\n",
    "qc=QuantumCircuit(a,b,c)\n",
    "qc.h(0)\n",
    "qc.h(1)\n",
    "nand_(qc,0,1,2)\n",
    "display(\"NAND\",qc.draw(\"mpl\"))\n",
    "display(plot_state_qsphere(execute(qc,be).result().get_statevector()))\n",
    "\n",
    "a=QuantumRegister(1,\"a\")\n",
    "b=QuantumRegister(1,\"b\")\n",
    "c=QuantumRegister(1,\"out\")\n",
    "\n",
    "qc=QuantumCircuit(a,b,c)\n",
    "qc.h(0)\n",
    "qc.h(1)\n",
    "or_(qc,0,1,2)\n",
    "display(\"OR\",qc.draw(\"mpl\"))\n",
    "display(plot_state_qsphere(execute(qc,be).result().get_statevector()))\n",
    "\n",
    "a=QuantumRegister(1,\"a\")\n",
    "b=QuantumRegister(1,\"b\")\n",
    "c=QuantumRegister(1,\"out\")\n",
    "\n",
    "qc=QuantumCircuit(a,b,c)\n",
    "qc.h(0)\n",
    "qc.h(1)\n",
    "nor_(qc,0,1,2)\n",
    "display(\"NOR\",qc.draw(\"mpl\"))\n",
    "display(plot_state_qsphere(execute(qc,be).result().get_statevector()))\n",
    "\n",
    "a=QuantumRegister(1,\"a\")\n",
    "b=QuantumRegister(1,\"b\")\n",
    "c=QuantumRegister(1,\"out\")\n",
    "\n",
    "qc=QuantumCircuit(a,b,c)\n",
    "qc.h(0)\n",
    "qc.h(1)\n",
    "xor_(qc,0,1,2)\n",
    "display(\"XOR\",qc.draw(\"mpl\"))\n",
    "display(plot_state_qsphere(execute(qc,be).result().get_statevector()))\n",
    "\n",
    "a=QuantumRegister(1,\"a\")\n",
    "b=QuantumRegister(1,\"b\")\n",
    "c=QuantumRegister(1,\"out\")\n",
    "\n",
    "qc=QuantumCircuit(a,b,c)\n",
    "qc.h(0)\n",
    "qc.h(1)\n",
    "xnor_(qc,0,1,2)\n",
    "display(\"XNOR\",qc.draw(\"mpl\"))\n",
    "display(plot_state_qsphere(execute(qc,be).result().get_statevector()))"
   ]
  },
  {
   "cell_type": "markdown",
   "id": "a047f9a8",
   "metadata": {},
   "source": [
    "## Arithmetic Operators\n",
    "## Half Adder\n",
    "**circ** is the QuantumCircuit that you add adder on it. **a**,**b** are inputs, **carry** is carry out and **sum_** is sum of **a+b**. You will feed **a**,**b**, **carry**, **out** variables with number of the spesific qubits."
   ]
  },
  {
   "cell_type": "code",
   "execution_count": null,
   "id": "57bc6a7a",
   "metadata": {},
   "outputs": [],
   "source": [
    "def half_adder(circ, a, b, carry,sum_):\n",
    "    xor_(circ,a,b,sum_)\n",
    "    and_(circ,a,b,carry)"
   ]
  },
  {
   "cell_type": "markdown",
   "id": "229010e1",
   "metadata": {},
   "source": [
    "## Full Adder"
   ]
  },
  {
   "cell_type": "markdown",
   "id": "08e812c0",
   "metadata": {},
   "source": [
    "**circ** is the QuantumCircuit that you add adder on it. **a**,**b** are inputs, **c_in** is carry in, **c_out** is carry out and **out** is the sum. You will feed **a**,**b**, **c_in**, **c_out**,**t_0**, **t_1**, **t_2** variables with number of the spesific qubits.\n",
    "**t_0**, **t_1** and **t_2** are temporary used qubits for computation. They don't represent any result but it's necessary for operations."
   ]
  },
  {
   "cell_type": "code",
   "execution_count": null,
   "id": "65d0e2d4",
   "metadata": {},
   "outputs": [],
   "source": [
    "def full_adder(circ,a,b,c_in,c_out,sum_):\n",
    "    qc.cx(a,sum_)\n",
    "    qc.cx(b,sum_)\n",
    "    qc.cx(c_in,sum_)\n",
    "    qc.ccx(a,b,c_out)\n",
    "    qc.ccx(b,c_in,c_out)\n",
    "    qc.ccx(c_in,a,c_out)"
   ]
  },
  {
   "cell_type": "markdown",
   "id": "360262ab",
   "metadata": {},
   "source": [
    "## Half Subtractor\n",
    "\n",
    "**circ** is the QuantumCircuit that you add adder on it. **a**,**b** are inputs, **bor** is borrow out,  and **diff** is difference of **a-b** . You will feed **a**,**b**, **bor**, **out** variables with number of the spesific qubits."
   ]
  },
  {
   "cell_type": "code",
   "execution_count": null,
   "id": "c4f5f40f",
   "metadata": {},
   "outputs": [],
   "source": [
    "def half_subtractor(circ, a, b, bor, diff):\n",
    "    xor_(circ,a,b,diff)\n",
    "    circ.ccx(b,diff,bor)"
   ]
  },
  {
   "cell_type": "markdown",
   "id": "1091e167",
   "metadata": {},
   "source": [
    "## Full Subtractor\n",
    "**circ** is the QuantumCircuit that you add adder on it. **a**,**b** are inputs, **c_in** is carry in, **c_out** is carry out and **out** is the sum. You will feed **a**,**b**, **c_in**, **c_out**,**t_0**, **t_1**, **t_2** variables with number of the spesific qubits.\n",
    "**t_0**, **t_1** and **t_2** are temporary used qubits for computation. They don't represent any result but it's necessary for operations."
   ]
  },
  {
   "cell_type": "code",
   "execution_count": null,
   "id": "ffd1e9e0",
   "metadata": {
    "scrolled": false
   },
   "outputs": [],
   "source": [
    "def full_subtractor(circ,a,b,b_in,b_out,diff):\n",
    "    qc.cx(a,diff)\n",
    "    qc.cx(b,diff)\n",
    "    qc.cx(b_in,diff)\n",
    "    qc.x(a)\n",
    "    qc.ccx(b_in,a,b_out)\n",
    "    qc.ccx(b_in,b,b_out)\n",
    "    qc.ccx(a,b,b_out)\n",
    "    qc.x(a)"
   ]
  },
  {
   "cell_type": "markdown",
   "id": "ad6c04f8",
   "metadata": {},
   "source": [
    "## Visualize Arithmetic Operations"
   ]
  },
  {
   "cell_type": "code",
   "execution_count": null,
   "id": "d005f5f9",
   "metadata": {
    "scrolled": false
   },
   "outputs": [],
   "source": [
    "a=QuantumRegister(1,\"a\")\n",
    "b=QuantumRegister(1,\"b\")\n",
    "c=QuantumRegister(1,\"c\")\n",
    "out=QuantumRegister(1,\"out\")\n",
    "\n",
    "qc=QuantumCircuit(a,b,c,out)\n",
    "qc.h(0)\n",
    "qc.h(1)\n",
    "\n",
    "half_adder(qc,0,1,2,3)\n",
    "display(\"HALF ADDER\",qc.draw(\"mpl\"))\n",
    "display(plot_state_qsphere(execute(qc,be).result().get_statevector()))\n",
    "\n",
    "\n",
    "a=QuantumRegister(1,\"a\")\n",
    "b=QuantumRegister(1,\"b\")\n",
    "c_in=QuantumRegister(1,\"cin\")\n",
    "c_out=QuantumRegister(1,\"cout\")\n",
    "sum_=QuantumRegister(1,\"sum\")\n",
    "\n",
    "qc=QuantumCircuit(a,b,c_in,c_out,sum_)\n",
    "qc.h(0)\n",
    "qc.h(1)\n",
    "qc.h(2)\n",
    "\n",
    "full_adder(qc,0,1,2,3,4)\n",
    "display(\"FULL ADDER\",qc.draw(\"mpl\"))\n",
    "display(plot_state_qsphere(execute(qc,be).result().get_statevector()))\n",
    "\n",
    "\n",
    "a=QuantumRegister(1,\"a\")\n",
    "b=QuantumRegister(1,\"b\")\n",
    "c=QuantumRegister(1,\"c\")\n",
    "out=QuantumRegister(1,\"out\")\n",
    "\n",
    "qc=QuantumCircuit(a,b,c,out)\n",
    "qc.h(0)\n",
    "qc.h(1)\n",
    "\n",
    "half_subtractor(qc,0,1,2,3)\n",
    "display(\"HALF SUBTRACTOR\",qc.draw(\"mpl\"))\n",
    "display(plot_state_qsphere(execute(qc,be).result().get_statevector()))\n",
    "\n",
    "\n",
    "a=QuantumRegister(1,\"a\")\n",
    "b=QuantumRegister(1,\"b\")\n",
    "b_in=QuantumRegister(1,\"bin\")\n",
    "b_out=QuantumRegister(1,\"bout\")\n",
    "diff=QuantumRegister(1,\"diff\")\n",
    "\n",
    "qc=QuantumCircuit(a,b,b_in,b_out,diff)\n",
    "qc.h(0)\n",
    "qc.h(1)\n",
    "qc.h(2)\n",
    "\n",
    "full_subtractor(qc,0,1,2,3,4)\n",
    "display(\"FULL SUBTRACTOR\",qc.draw(\"mpl\"))\n",
    "display(plot_state_qsphere(execute(qc,be).result().get_statevector()))"
   ]
  },
  {
   "cell_type": "markdown",
   "id": "b5b7a928",
   "metadata": {},
   "source": [
    "## Multi Qubits Adder\n",
    "  **circ** is quantum circuit that you want to add adder circuit. **A** is tuple or list of qubits of first element that will be added. **B** is tuple or list of qubits of second one. **T** is list or tuple of temporary qubits. It has one less element than A and B. **C** is tuple or list of qubits of sum. C has one more element than A and B"
   ]
  },
  {
   "cell_type": "code",
   "execution_count": null,
   "id": "a7243d95",
   "metadata": {},
   "outputs": [],
   "source": [
    "def multi_qubits_adder(circ,A,B,T,C):\n",
    "    if not (type(A)==tuple or type(A)==list):\n",
    "        raise TypeError(\"A must be a tuple or list\")\n",
    "    if not (type(B)==tuple or type(B)==list):\n",
    "        raise TypeError(\"B must be a tuple or list\")\n",
    "    if not (type(T)==tuple or type(T)==list):\n",
    "        raise TypeError(\"T must be a tuple or list\")\n",
    "    if not (type(C)==tuple or type(C)==list):\n",
    "        raise TypeError(\"C must be a tuple or list\")\n",
    "    if not len(A)==len(B):\n",
    "        raise ValueError(\"# of qubits of A and B must be equal\")\n",
    "    if not len(A)+1==len(C):\n",
    "        raise ValueError(\"C must has one more qubit than A and B\")\n",
    "    if not len(A)-1==len(T):\n",
    "        raise ValueError(\"T must has one more less qubit than A and B\")\n",
    "    A=tuple(A)\n",
    "    B=tuple(B)\n",
    "    T=tuple(T)\n",
    "    C=tuple(C)\n",
    "    if len(set(A+B+T+C))<len(A+B+T+C):\n",
    "        raise ValueError(\"Qubits must not coindice\")\n",
    "        \n",
    "    half_adder(circ,A[0],B[0],T[0],C[0])\n",
    "    for i in range(1,len(A)-1):\n",
    "        full_adder(circ,A[i],B[i],T[i-1],T[i],C[i])\n",
    "    full_adder(circ,A[-1],B[-1],T[-1],C[-1],C[-2])"
   ]
  },
  {
   "cell_type": "markdown",
   "id": "897a8a8b",
   "metadata": {},
   "source": [
    "## Multi Qubits Subtractor\n",
    "  **circ** is quantum circuit that you want to add subtractor circuit. **A** is tuple or list of qubits of first element that will be subtracted. **B** is tuple or list of qubits of second one. **T** is list or tuple of temporary qubits. It has one less element than A and B. **C** is tuple or list of qubits of subtraction. C has one more element than A and B. It returns **A-B**"
   ]
  },
  {
   "cell_type": "code",
   "execution_count": null,
   "id": "212bc610",
   "metadata": {},
   "outputs": [],
   "source": [
    "def multi_qubits_subtractor(circ,A,B,T,C):\n",
    "    if not (type(A)==tuple or type(A)==list):\n",
    "        raise TypeError(\"A must be a tuple or list\")\n",
    "    if not (type(B)==tuple or type(B)==list):\n",
    "        raise TypeError(\"B must be a tuple or list\")\n",
    "    if not (type(T)==tuple or type(T)==list):\n",
    "        raise TypeError(\"T must be a tuple or list\")\n",
    "    if not (type(C)==tuple or type(C)==list):\n",
    "        raise TypeError(\"C must be a tuple or list\")\n",
    "    if not len(A)==len(B):\n",
    "        raise ValueError(\"# of qubits of A and B must be equal\")\n",
    "    if not len(A)+1==len(C):\n",
    "        raise ValueError(\"C must has one more qubit than A and B\")\n",
    "    if not len(A)-1==len(T):\n",
    "        raise ValueError(\"T must has one more less qubit than A and B\")\n",
    "    A=tuple(A)\n",
    "    B=tuple(B)\n",
    "    T=tuple(T)\n",
    "    C=tuple(C)\n",
    "    if len(set(A+B+T+C))<len(A+B+T+C):\n",
    "        raise ValueError(\"Qubits must not coindice\")\n",
    "\n",
    "    half_subtractor(circ,A[0],B[0],T[0],C[0])\n",
    "    for i in range(1,len(A)-1):\n",
    "        full_subtractor(circ,A[i],B[i],T[i-1],T[i],C[i])\n",
    "    full_subtractor(circ,A[-1],B[-1],T[-1],C[-1],C[-2])\n"
   ]
  },
  {
   "cell_type": "markdown",
   "id": "aedbb778",
   "metadata": {},
   "source": [
    "### Testing Multi Qubits Adder"
   ]
  },
  {
   "cell_type": "code",
   "execution_count": null,
   "id": "893d0bbc",
   "metadata": {
    "scrolled": false
   },
   "outputs": [],
   "source": [
    "#Function for extracting addition operations from statevector\n",
    "def extract(sv,q,t):#sv:statevector, q: # of qubits, t:number of temporaries\n",
    "    probs=[]\n",
    "    for i in range(len(sv)):\n",
    "        if not sv[i]==0:\n",
    "            probs.append([i,abs(sv[i])**2])\n",
    "    for i in range(len(probs)):\n",
    "        probs[i][0]=bin(probs[i][0])[2:]\n",
    "        probs[i][0]=\"0\"*(3*q+1+t-len((probs[i][0])))+probs[i][0]\n",
    "    \n",
    "    for i in range(len(probs)):\n",
    "        probs[i].append(probs[i][0][:q+1]+\"-\"+probs[i][0][q+1:t+q+1]+\"-\"+probs[i][0][q+t+1:2*q+t+1]+\"-\"+probs[i][0][2*q+t+1:3*q+t+1])\n",
    "    for i in range(len(probs)):\n",
    "        m=\"\"\n",
    "        t=probs[i][2].split(\"-\")\n",
    "        m+=str(int(t[0],2))+\"=\"+str(int(t[2],2))+\"+\"+str(int(t[3],2))\n",
    "        probs[i].append(m)\n",
    "            \n",
    "    return probs\n",
    "a=QuantumRegister(4,\"a\")\n",
    "b=QuantumRegister(4,\"b\")\n",
    "t=QuantumRegister(3,\"t\")\n",
    "c=QuantumRegister(5,\"c\")\n",
    "qc=QuantumCircuit(a,b,t,c)\n",
    "qc.h([i for i in range(8)])\n",
    "multi_qubits_adder(qc,(0,1,2,3),(4,5,6,7),(8,9,10),(11,12,13,14,15))\n",
    "display(qc.draw(\"mpl\"))\n",
    "sv=execute(qc,be).result().get_statevector()\n",
    "n=extract(sv,4,3)\n",
    "print(\"# of performed simultaneously operations is\",len(n))\n",
    "n"
   ]
  }
 ],
 "metadata": {
  "kernelspec": {
   "display_name": "Python 3",
   "language": "python",
   "name": "python3"
  },
  "language_info": {
   "codemirror_mode": {
    "name": "ipython",
    "version": 3
   },
   "file_extension": ".py",
   "mimetype": "text/x-python",
   "name": "python",
   "nbconvert_exporter": "python",
   "pygments_lexer": "ipython3",
   "version": "3.8.8"
  }
 },
 "nbformat": 4,
 "nbformat_minor": 5
}
